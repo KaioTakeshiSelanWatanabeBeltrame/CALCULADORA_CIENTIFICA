{
  "nbformat": 4,
  "nbformat_minor": 0,
  "metadata": {
    "colab": {
      "provenance": [],
      "collapsed_sections": [
        "eHJ0Vzbe5vjS",
        "d5ZDLkA55qIa",
        "ruySOUVD5jZl",
        "HFgF9-F_436a"
      ]
    },
    "kernelspec": {
      "name": "python3",
      "display_name": "Python 3"
    },
    "language_info": {
      "name": "python"
    }
  },
  "cells": [
    {
      "cell_type": "markdown",
      "source": [
        "###**CALCULADORA CIENTÍFICA**"
      ],
      "metadata": {
        "id": "Eyvc865Q6Ei5"
      }
    },
    {
      "cell_type": "markdown",
      "source": [
        "##*ETAPA 1*"
      ],
      "metadata": {
        "id": "eHJ0Vzbe5vjS"
      }
    },
    {
      "cell_type": "code",
      "source": [
        "# passo 1: solicitar ao usuário que insira os números e a operação\n",
        "numero1 = float(input(\"digite o primeiro número: \"))\n",
        "operador = (input(\"digite o operador (+, -, *, /): \"))\n",
        "numero2 = float(input(\"digite o segundo número: \"))\n",
        "\n",
        "\n",
        "# passo2: realizar a operação correspondente\n",
        "if operador == '+':\n",
        "    resultado = numero1 + numero2\n",
        "elif operador == '-':\n",
        "    resultado = numero1 - numero2\n",
        "elif operador == '*':\n",
        "    resultado = numero1 * numero2\n",
        "elif operador == '/':\n",
        "    resultado = numero1 / numero2\n",
        "else:\n",
        "    resultado = \"operador inválido\"\n",
        "\n",
        "# passo 3: exibir o resultado\n",
        "print(\"resultado:\", resultado)"
      ],
      "metadata": {
        "id": "OSYiqkPg5sGh"
      },
      "execution_count": null,
      "outputs": []
    },
    {
      "cell_type": "markdown",
      "source": [
        "##*ETAPA 2*"
      ],
      "metadata": {
        "id": "d5ZDLkA55qIa"
      }
    },
    {
      "cell_type": "code",
      "source": [
        "def adicionar (n1, n2):\n",
        "    \"\"\"Retorna a soma de dois números.\"\"\"\n",
        "    return n1 + n2\n",
        "\n",
        "def subtrair (n1, n2):\n",
        "    \"\"\"Retorna a diferença entre dois números.\"\"\"\n",
        "    return n1 - n2\n",
        "\n",
        "def multiplicar (n1, n2):\n",
        "    \"\"\"Retorna o produto de dois números.\"\"\"\n",
        "    return n1 * n2\n",
        "\n",
        "def dividir (n1, n2):\n",
        "    \"\"\"Retorna o quociente da divisão de dois números.\"\"\"\n",
        "    return n1 / n2\n",
        "\n",
        "\n",
        "num1 = float(input(\"Digite o primeiro numero: \"))\n",
        "operador = input(\"Digite o operador logico (+, -, *, /): \")\n",
        "num2 = float(input(\"Digite o segundo numero: \"))\n",
        "\n",
        "\n",
        "if (operador == '+'):\n",
        "    resultado = adicionar(num1, num2)\n",
        "elif (operador == '-'):\n",
        "    resultado = subtrair(num1, num2)\n",
        "elif (operador == '*'):\n",
        "    resultado = multiplicar(num1, num2)\n",
        "elif (operador == '/'):\n",
        "    resultado = dividir(num1, num2)\n",
        "else:\n",
        "    print(\"Operador invalido!\")\n",
        "    resultado = None\n",
        "\n",
        "if (resultado is not None):\n",
        "    print(f\"O resultado e: {resultado}\")"
      ],
      "metadata": {
        "id": "EpnIM_yt5mgs"
      },
      "execution_count": null,
      "outputs": []
    },
    {
      "cell_type": "markdown",
      "source": [
        "##*ETAPA 3*"
      ],
      "metadata": {
        "id": "ruySOUVD5jZl"
      }
    },
    {
      "cell_type": "code",
      "source": [
        "def adicionar (n1, n2):\n",
        "    \"\"\"Retorna a soma de dois números.\"\"\"\n",
        "    return n1 + n2\n",
        "\n",
        "def subtrair (n1, n2):\n",
        "    \"\"\"Retorna a diferença entre dois números.\"\"\"\n",
        "    return n1 - n2\n",
        "\n",
        "def multiplicar (n1, n2):\n",
        "    \"\"\"Retorna o produto de dois números.\"\"\"\n",
        "    return n1 * n2\n",
        "\n",
        "def dividir (n1, n2):\n",
        "    \"\"\"Retorna o quociente da divisão de dois números.\"\"\"\n",
        "    return n1 / n2\n",
        "\n",
        "\n",
        "try:\n",
        "    num1_str = input(\"Digite o primeiro numero: \")\n",
        "    operador = input(\"Digite o operador logico (+, -, *, /): \")\n",
        "    num2_str = input(\"Digite o segundo numero: \")\n",
        "\n",
        "\n",
        "    # Passo 01: Verificar se o operador inserido é válido\n",
        "    if not num1_str.replace('.', '', 1).isdigit() or not num2_str.replace('.', '', 1).isdigit():\n",
        "        raise ValueError(\"Por favor, insira numeros validos. \")\n",
        "    else:\n",
        "        num1 = float(num1_str)\n",
        "        num2 = float(num2_str)\n",
        "\n",
        "    # Passo 02: Verificar se o operador inserido é válido\n",
        "    if (operador in ['+', '-', '*', '/']):\n",
        "        #Passo 04: Chamar a função corretamente\n",
        "        if (operador == '+'):\n",
        "            resultado = adicionar(num1, num2)\n",
        "        elif (operador == '-'):\n",
        "            resultado = subtrair(num1, num2)\n",
        "        elif (operador == '*'):\n",
        "            resultado = multiplicar(num1, num2)\n",
        "        elif (operador == '/'):\n",
        "            # COnsiderar a divisão por zero aqui\n",
        "            if (num2 == 0):\n",
        "                raise ZeroDivisionError(\"Não é possível dividir por zero. \")\n",
        "            else:\n",
        "                resultado = dividir(num1, num2)\n",
        "\n",
        "            # Passo 05: Exibir o resultado\n",
        "            print(f\"O resultado e: {resultado}\")\n",
        "\n",
        "\n",
        "        else:\n",
        "            # Passo 03: Exibir mensagens de erro apropriadas\n",
        "            raise ValueError(\"Operador invalido. Use +, -, * ou /. \")\n",
        "\n",
        "\n",
        "except ValueError as e:\n",
        "    print(f\"Erro: {e}\")\n",
        "except ZeroDivisionError as e:\n",
        "    print(f\"Erro: {e}\")\n",
        "except Exception as e:\n",
        "    print(f\"Ocorreu um erro inesperado: {e}\")"
      ],
      "metadata": {
        "id": "25ehcC8B5fSD"
      },
      "execution_count": null,
      "outputs": []
    },
    {
      "cell_type": "markdown",
      "source": [
        "##*ETAPA 4*"
      ],
      "metadata": {
        "id": "HFgF9-F_436a"
      }
    },
    {
      "cell_type": "code",
      "execution_count": null,
      "metadata": {
        "id": "WbE6iuYA4wgw"
      },
      "outputs": [],
      "source": [
        "# Passo 1: Importar o módulo math.\n",
        "import math\n",
        "\n",
        "def adicionar(n1, n2):\n",
        "    \"\"\"Retorna a soma de dois números.\"\"\"\n",
        "    return n1 + n2\n",
        "\n",
        "def subtrair(n1, n2):\n",
        "    \"\"\"Retorna a diferença entre dois números.\"\"\"\n",
        "    return n1 - n2\n",
        "\n",
        "def multiplicar(n1, n2):\n",
        "    \"\"\"Retorna o produto de dois números.\"\"\"\n",
        "    return n1 * n2\n",
        "\n",
        "def dividir(n1, n2):\n",
        "    \"\"\"Retorna o quociente da divisão de dois números.\"\"\"\n",
        "    return n1 / n2\n",
        "\n",
        "# Passo 2: Implementar funções para cálculos de potenciação, radiciação, trigonometria e logaritmos.\n",
        "def potencia(base, expoente):\n",
        "    \"\"\"Retorna a base elevada ao expoente.\"\"\"\n",
        "    return math.pow(base, expoente)\n",
        "\n",
        "def radiciacao(numero, raiz):\n",
        "    \"\"\"Retorna a raiz de um número.\"\"\"\n",
        "    if numero < 0 and raiz % 2 == 0:\n",
        "        raise ValueError(\"Raiz par de número negativo não é real.\")\n",
        "    return math.pow(numero, 1/raiz)\n",
        "\n",
        "def seno(angulo_graus):\n",
        "    \"\"\"Retorna o seno de um ângulo em graus.\"\"\"\n",
        "    return math.sin(math.radians(angulo_graus))\n",
        "\n",
        "    def cosseno(angulo_graus):\n",
        "    \"\"\"Retorna o cosseno de um ângulo em graus.\"\"\"\n",
        "    return math.cos(math.radians(angulo_graus))\n",
        "\n",
        "def tangente(angulo_graus):\n",
        "    \"\"\"Retorna a tangente de um ângulo em graus.\"\"\"\n",
        "    return math.tan(math.radians(angulo_graus))\n",
        "\n",
        "def logaritmo(numero, base):\n",
        "    \"\"\"Retorna o logaritmo de um número na base especificada.\"\"\"\n",
        "    if numero <= 0 or base <= 0 or base == 1:\n",
        "        raise ValeuError(\"Número deve ser positivo e base positiva diferente de 1.\")\n",
        "    return math.log(numero, base)\n",
        "\n",
        "try:\n",
        "    num1_str = input(\"Digite o primeiro número: \")\n",
        "    operador = input(\"Digite o operador (+, -, *, /, **, rad, sen, cos, tan, log): \")\n",
        "    num2_str = input(\"Digite o segundo número (ou raiz/expoente/base para outras operações): \")\n",
        "\n",
        "    # Passo 1: Verificar se os números inseridos são válidos.\n",
        "    if not num1_str.replace('.', '', 1).isdigit() or not num2_str.replace('.', '', 1).isdigit():\n",
        "        raise ValueError(\"Por favor, insira números válidos.\")\n",
        "    else:\n",
        "        num1 = float(num1_str)\n",
        "        num2 = float(num2_str)\n",
        "        resultado = None\n",
        "\n",
        "        # Passo 2: Verificar se o operador inserido é válido.\n",
        "        if operador in ['+', '-', '*', '/', '**', 'rad', 'sen', 'cos', 'tan', 'log',]:\n",
        "            # Passo 3: Integrar as novas funções ao programa.\n",
        "            if operador == '+':\n",
        "                resultado = adicionar(num1, num2)\n",
        "            elif operador == '-':\n",
        "                resultado = subtrair(num1 , num2)\n",
        "            elif operador == '*':\n",
        "                resultado = multiplicar(num1, num2)\n",
        "            elif operador == '/':\n",
        "                if num2 == 0:\n",
        "                    raise ZeroDivisionError(\"Não é possível dividir por zero.\")\n",
        "                else:\n",
        "                    resultado = dividir(num1, num2)\n",
        "            elif operador == '**\":\n",
        "                resultado = potencia(num1, num2)\n",
        "            elif operador == 'rad':\n",
        "                resultado = radiciacao(num1, num2)\n",
        "            elif operador == 'sen':\n",
        "                resultado = seno(num1) # Assume que o primeiro número é o ângulo em graus\n",
        "            elif operador == 'cos':\n",
        "                resultado = cosseno(num1) # Assume que o primeiro número é o ângulo em graus\n",
        "            elif operador == 'tan':\n",
        "                resultado = tangente(num1) # Assume que o primeiro número é o ângulo em graus\n",
        "            elif operador == 'log':\n",
        "                resultado = logaritmo(num1, num2)\n",
        "\n",
        "            # Passo 5: Exibir o resultado.\n",
        "            print(f\"O resultado é: {resultado}\")\n",
        "        else:\n",
        "            # Passo 3: Exibir mensagens de erro apropriadas.\n",
        "            raise ValueError(\"Operador inválido. Use +, -, *, /, **, rad, sen, cos, tan, log.\")\n",
        "\n",
        "except ValueError as e:\n",
        "    print(f\"Erro: {e}\")\n",
        "except ZeroDivisionError as e:\n",
        "    print(f\"Erro: {e}\")\n",
        "except Exception as e:\n",
        "    print(f\"Ocorreu um erro inesperado: {e}\")"
      ]
    }
  ]
}